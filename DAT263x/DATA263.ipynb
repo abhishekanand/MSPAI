{
 "cells": [
  {
   "cell_type": "markdown",
   "metadata": {},
   "source": [
    "### Suprevised Learning :\n",
    "#### Regression  : a regression model to predict a numeric value.\n",
    "                    Function(feature) = outcome/Label\n",
    "                 example F(age, weight, heart rate, duration) = calorie burnt\n",
    "               \n",
    "Train data\n",
    "Evaluation Data\n",
    "Test Data\n",
    "\n",
    "Residual /Error \n",
    "\n",
    "Residual: The difference between the predicted and actual levels are what we call the residuals.And they can tell us something about the level of error in the model.\n",
    "\n",
    "Residual  : Score - Label \n",
    "            Predicted - actual \n",
    "            \n",
    "\n",
    "##### To Measure error in the model  \n",
    "\n",
    "absolute measures of error in the model.\n",
    "    Root-Mean-Square Error (RMSE): \n",
    "    Mean absolute Error (MAE) :\n",
    "\n",
    "relative measures of error in the model : a metric where the closer to 0 the error, the better the model.\n",
    "    Relative absolute error(RAE)\n",
    "    relative squared error (RSE)\n",
    "    Coefficient of determination, which we sometimes call R squared (In this case  a value closer to 1 indicates a good fit for model )\n",
    "    \n",
    "#### Classification  : at we can use to predict which class, or category, something belongs to\n",
    "\n",
    "Binary Classification :0 or 1\n",
    "\n",
    "Confusion Matrix \n",
    "Accuracy :\n",
    "Prcision:\n",
    "Recall :\n",
    "True Positive Rate\n",
    "False Positive Rate\n",
    "\n",
    "\n",
    "ROC Chart \n",
    "\n",
    "AUC Grpah \n",
    "\n",
    "\n",
    "\n",
    "\n",
    "\n",
    "\n",
    "Unsupervised : No Known  label value - Finding Similarities \n",
    "#### Clustering : \n",
    "K-means clustering : \n",
    "True Center \n",
    "Centroid \n",
    "\n",
    "To measure this :\n",
    "1.  we can compare the average distance between the cluster centers.And the average distance between the points in the cluster and their centers.\n",
    "\n",
    "Clusters that maximize this ratio have the greatest separation.\n",
    "\n",
    "2. We can also use the ratio of the average distance between clusters, and the maximum distance between the points and the centroid of the cluster.\n",
    "\n",
    "3. Now another way we could evaluate the results of a clustering algorithm is to use a method called principal component analysis, or PCA. \n"
   ]
  },
  {
   "cell_type": "markdown",
   "metadata": {},
   "source": [
    "from azureml import Workspace\n",
    "ws = Workspace()\n",
    "experiment = ws.experiments['c6b9c73741954b789c7a4b37b1a003aa.f-id.351580e8ab314144933d9e9f697872eb']\n",
    "ds = experiment.get_intermediate_dataset(\n",
    "    node_id='eceea19d-c9d5-4b04-aa17-691ee4c54271-78',\n",
    "    port_name='Results dataset',\n",
    "    data_type_id='GenericCSV'\n",
    ")\n",
    "frame = ds.to_dataframe()"
   ]
  },
  {
   "cell_type": "code",
   "execution_count": null,
   "metadata": {},
   "outputs": [],
   "source": [
    "\n",
    "%matplotlib inline \n",
    "\n",
    "import seaborn as sns\n",
    "num_cols = [\"Age\",\"Height\",\"Weight\", \"Duration\", \"Heart_Rate\",\"Body_Temp\",\"Calories\"]\n",
    "sns.pairplot(frame[num_cols], size=2)"
   ]
  }
 ],
 "metadata": {
  "kernelspec": {
   "display_name": "Python 3",
   "language": "python",
   "name": "python3"
  },
  "language_info": {
   "codemirror_mode": {
    "name": "ipython",
    "version": 3
   },
   "file_extension": ".py",
   "mimetype": "text/x-python",
   "name": "python",
   "nbconvert_exporter": "python",
   "pygments_lexer": "ipython3",
   "version": "3.6.5"
  }
 },
 "nbformat": 4,
 "nbformat_minor": 2
}
